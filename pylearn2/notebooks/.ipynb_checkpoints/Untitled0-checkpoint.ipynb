{
 "metadata": {
  "name": "",
  "signature": "sha256:4c9bc428f52661872036e058b832920c5d1cf1be321425bd52a4616e872b9476"
 },
 "nbformat": 3,
 "nbformat_minor": 0,
 "worksheets": []
}